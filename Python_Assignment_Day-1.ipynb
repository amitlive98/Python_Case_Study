{
 "cells": [
  {
   "cell_type": "code",
   "execution_count": 1,
   "metadata": {},
   "outputs": [
    {
     "name": "stdout",
     "output_type": "stream",
     "text": [
      "Enter a number:69\n",
      "8.307\n"
     ]
    }
   ],
   "source": [
    "# Write a program find square root of a number.\n",
    "inp=input(\"Enter a number:\")\n",
    "sqrt_inp=int(inp)**0.5\n",
    "print(round(sqrt_inp,3))"
   ]
  },
  {
   "cell_type": "code",
   "execution_count": 2,
   "metadata": {},
   "outputs": [
    {
     "name": "stdout",
     "output_type": "stream",
     "text": [
      "Enter a number:45\n",
      "Not a perfect square\n"
     ]
    }
   ],
   "source": [
    "# Write a program to find out perfect square\n",
    "inp=input(\"Enter a number:\")\n",
    "sqrt_inp=int(inp)**0.5\n",
    "if sqrt_inp==round(sqrt_inp):\n",
    "    print(sqrt_inp)\n",
    "else:\n",
    "    print(\"Not a perfect square\")"
   ]
  },
  {
   "cell_type": "code",
   "execution_count": 3,
   "metadata": {},
   "outputs": [
    {
     "name": "stdout",
     "output_type": "stream",
     "text": [
      "Enter side-1:5\n",
      "Enter side-2:12\n",
      "Enter side-3:13\n",
      "30.0\n"
     ]
    }
   ],
   "source": [
    "# Python Program to find the area of triangle\n",
    "side1=input(\"Enter side-1:\")\n",
    "side2=input(\"Enter side-2:\")\n",
    "side3=input(\"Enter side-3:\")\n",
    "\n",
    "s=(float(side1)+float(side2)+float(side3))/2\n",
    "Area=(s*(s-float(side1))*(s-float(side2))*(s-float(side3)))**0.5\n",
    "print(Area)"
   ]
  },
  {
   "cell_type": "code",
   "execution_count": 4,
   "metadata": {},
   "outputs": [
    {
     "name": "stdout",
     "output_type": "stream",
     "text": [
      "Enter 1st number:4\n",
      "Enter 2nd number:5\n",
      "inp1 is: 5  inp2 is: 4\n"
     ]
    }
   ],
   "source": [
    "# Python program to swap two variables provided by the user without temporary variable\n",
    "inp1=input(\"Enter 1st number:\")\n",
    "inp2=input(\"Enter 2nd number:\")\n",
    "\n",
    "inp1=int(inp1)+int(inp2)\n",
    "inp2=int(inp1)-int(inp2)\n",
    "inp1=int(inp1)-int(inp2)\n",
    "\n",
    "print(\"inp1 is:\",inp1,\" inp2 is:\",inp2)\n"
   ]
  },
  {
   "cell_type": "code",
   "execution_count": 5,
   "metadata": {},
   "outputs": [
    {
     "name": "stdout",
     "output_type": "stream",
     "text": [
      "Enter a Year:1984\n",
      "Leap Year\n"
     ]
    }
   ],
   "source": [
    "# Python program to check if the input year is a leap year or not\n",
    "Year=int(input(\"Enter a Year:\"))\n",
    "if Year % 4 ==0:\n",
    "    if Year % 100 == 0:\n",
    "        if Year % 400 == 0:\n",
    "            print(\"Leap Year\")\n",
    "        else:\n",
    "            print(\"Not a leap year\")\n",
    "    else:\n",
    "        print(\"Leap Year\")\n",
    "else:\n",
    "    print(\"Not a leap year\")"
   ]
  },
  {
   "cell_type": "code",
   "execution_count": 6,
   "metadata": {},
   "outputs": [
    {
     "name": "stdout",
     "output_type": "stream",
     "text": [
      "Enter a number:7\n",
      "0\n",
      "1\n",
      "1\n",
      "2\n",
      "3\n",
      "5\n",
      "8\n"
     ]
    }
   ],
   "source": [
    "# Program to display the Fibonacci sequence up to n-th term where n is provided by the user\n",
    "def fib_series(n):\n",
    "    if n ==0:\n",
    "        return 0\n",
    "    elif n == 1:\n",
    "        return 1\n",
    "    else:\n",
    "        return (fib_series(n-2)+fib_series(n-1))\n",
    "n=int(input(\"Enter a number:\"))\n",
    "for i in range(0,n):\n",
    "    print(fib_series(i))"
   ]
  },
  {
   "cell_type": "code",
   "execution_count": 7,
   "metadata": {},
   "outputs": [
    {
     "name": "stdout",
     "output_type": "stream",
     "text": [
      "Enter a number:1634\n",
      "armstrong number\n"
     ]
    }
   ],
   "source": [
    "# Python program to check if the number provided by the user is an Armstrong number or not\n",
    "inp=int(input(\"Enter a number:\"))\n",
    "s=0\n",
    "q=inp\n",
    "while q>0:\n",
    "    d = q % 10\n",
    "    s+= d ** len(str(inp))\n",
    "    q //= 10\n",
    "if s==inp:\n",
    "    print(\"armstrong number\")\n",
    "else:\n",
    "    print(\"Not an armstrong number\")"
   ]
  },
  {
   "cell_type": "code",
   "execution_count": 8,
   "metadata": {},
   "outputs": [
    {
     "name": "stdout",
     "output_type": "stream",
     "text": [
      "Enter a number:10\n",
      "1\n",
      "2\n",
      "4\n",
      "8\n",
      "16\n",
      "32\n",
      "64\n",
      "128\n",
      "256\n",
      "512\n",
      "1024\n"
     ]
    }
   ],
   "source": [
    "# Python Program to display the powers of 2 using anonymous function\n",
    "inp=int(input(\"Enter a number:\"))\n",
    "b=[]\n",
    "for i in range(0,inp+1):\n",
    "    b=2**i\n",
    "    print(b)\n",
    "    "
   ]
  }
 ],
 "metadata": {
  "kernelspec": {
   "display_name": "Python 3",
   "language": "python",
   "name": "python3"
  },
  "language_info": {
   "codemirror_mode": {
    "name": "ipython",
    "version": 3
   },
   "file_extension": ".py",
   "mimetype": "text/x-python",
   "name": "python",
   "nbconvert_exporter": "python",
   "pygments_lexer": "ipython3",
   "version": "3.6.4"
  }
 },
 "nbformat": 4,
 "nbformat_minor": 2
}
